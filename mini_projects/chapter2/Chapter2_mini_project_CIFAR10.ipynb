{
 "cells": [
  {
   "cell_type": "markdown",
   "id": "0c8421af-5269-4f1e-b226-064755fd0d6a",
   "metadata": {},
   "source": [
    "### 1. 필요 모듈 선언"
   ]
  },
  {
   "cell_type": "code",
   "execution_count": 1,
   "id": "e6fd5379-2de6-471b-8c34-7e8c4d73ab08",
   "metadata": {
    "scrolled": true
   },
   "outputs": [],
   "source": [
    "%matplotlib inline\n",
    "\n",
    "import numpy as np\n",
    "import torch\n",
    "import torch.nn as nn\n",
    "import torch.nn.functional as F\n",
    "import torch.optim as optim\n",
    "from torch.utils.data import DataLoader\n",
    "from torchvision import datasets, transforms\n",
    " \n",
    "import matplotlib.pyplot as plt\n",
    "from PIL import Image, ImageOps\n",
    "import os"
   ]
  },
  {
   "cell_type": "markdown",
   "id": "920b175c-05e1-421b-873c-070fc418c91f",
   "metadata": {},
   "source": [
    "### 2. CIFAR 훈련, 테스트 데이터셋 다운로드\n",
    "- 32*32\n",
    "    - airplane\t\t\t\t\t\t\t\t\t\t\n",
    "    - automobile\t\t\t\t\t\t\t\t\t\t\n",
    "    - bird\t\t\t\t\t\t\t\t\t\t\n",
    "    - cat\t\t\t\t\t\t\t\t\t\t\n",
    "    - deer\t\t\t\t\t\t\t\t\t\t\n",
    "    - dog\t\t\t\t\t\t\t\t\t\t\n",
    "    - frog\t\t\t\t\t\t\t\t\t\t\n",
    "    - horse\t\t\t\t\t\t\t\t\t\t\n",
    "    - ship\t\t\t\t\t\t\t\t\t\t\n",
    "    - truck\t\t\t\t\t\t\t\t\t\t\n"
   ]
  },
  {
   "cell_type": "code",
   "execution_count": 2,
   "id": "23608297-f5cc-4486-bf6b-01877cdb99f8",
   "metadata": {
    "scrolled": true
   },
   "outputs": [
    {
     "name": "stdout",
     "output_type": "stream",
     "text": [
      "Downloading https://www.cs.toronto.edu/~kriz/cifar-10-python.tar.gz to /home/yunseo/notebooks/deeplearning_practice/data/cifar-10-python.tar.gz\n"
     ]
    },
    {
     "name": "stderr",
     "output_type": "stream",
     "text": [
      "100%|██████████| 170498071/170498071 [01:36<00:00, 1763745.70it/s]\n"
     ]
    },
    {
     "name": "stdout",
     "output_type": "stream",
     "text": [
      "Extracting /home/yunseo/notebooks/deeplearning_practice/data/cifar-10-python.tar.gz to /home/yunseo/notebooks/deeplearning_practice/data\n"
     ]
    }
   ],
   "source": [
    "#dataset.MNIST 를 사용해서 MNIST 데이터셋을 다운받을 수 있다. train 은 훈련데이터 여부, download는 기존에 없다면 root 경로에 다운로드)\n",
    "train_dataset = datasets.CIFAR10(root='/home/yunseo/notebooks/deeplearning_practice/data', train=True, download=True, transform=transforms.ToTensor())\n",
    "test_dataset = datasets.CIFAR10(root='/home/yunseo/notebooks/deeplearning_practice/data', train=False, transform=transforms.ToTensor()) #코드가 비슷해보여도 train이 False여서 이건 test 데이터가 다운로드 됨!"
   ]
  },
  {
   "cell_type": "markdown",
   "id": "69e7ca4f-7240-4351-b913-ac539d35339d",
   "metadata": {},
   "source": [
    "### 3. 데이터 확인"
   ]
  },
  {
   "cell_type": "code",
   "execution_count": 7,
   "id": "e0fe50cf-96d3-48d2-a42b-d437ca2b7ca4",
   "metadata": {
    "scrolled": true
   },
   "outputs": [
    {
     "name": "stdout",
     "output_type": "stream",
     "text": [
      "Target: automobile\n",
      "Size of Image: (32, 32, 3)\n"
     ]
    },
    {
     "data": {
      "image/png": "[encoded data removed]",
      "text/plain": [
       "<Figure size 640x480 with 1 Axes>"
      ]
     },
     "metadata": {},
     "output_type": "display_data"
    }
   ],
   "source": [
    "torch.manual_seed(70)\n",
    "\n",
    "idx = torch.randint(0, len(train_dataset), (1,)).item()\n",
    "random_img = train_dataset[idx][0].squeeze().permute(1,2,0).numpy()\n",
    "target_num = train_dataset[idx][1]\n",
    "\n",
    "label = {0:\"airplane\",\n",
    "         1:\"automobile\",\n",
    "         2:\"bird\",\n",
    "         3:\"cat\",\n",
    "         4:\"deer\",\n",
    "         5:\"dog\",\n",
    "         6:\"frog\",\n",
    "         7:\"horse\",\n",
    "         8:\"ship\",\n",
    "         9:\"truck\"}\n",
    "\n",
    "print(\"Target: {}\".format(label[target_num]))\n",
    "print(\"Size of Image: {}\".format(random_img.shape))\n",
    "\n",
    "plt.imshow(random_img)\n",
    "plt.axis('off')\n",
    "plt.show()"
   ]
  },
  {
   "cell_type": "markdown",
   "id": "792668ed-ec9f-4779-b34b-e33bf85e6277",
   "metadata": {},
   "source": [
    "### 4. 데이터 로더 정의, 확인"
   ]
  },
  {
   "cell_type": "code",
   "execution_count": 8,
   "id": "54745de9-1346-4f1e-b869-8fa1816cce28",
   "metadata": {},
   "outputs": [
    {
     "data": {
      "text/plain": [
       "50000"
      ]
     },
     "execution_count": 8,
     "metadata": {},
     "output_type": "execute_result"
    }
   ],
   "source": [
    "len(train_dataset)"
   ]
  },
  {
   "cell_type": "code",
   "execution_count": 9,
   "id": "a909b141-b56d-4de7-923c-ed1e50a51f22",
   "metadata": {},
   "outputs": [],
   "source": [
    "BATCH = 64 #미니배치의 크기. 한번에 얼마나 많은 양의 이미지를 학습시킬건지\n",
    "DEVICE = 'cpu'\n",
    "STEP =10\n",
    "\n",
    "train_set, val_set = torch.utils.data.random_split(train_dataset, [40000, 10000])\n",
    "\n",
    "train_loader = DataLoader(dataset=train_set, batch_size=BATCH, shuffle=True)\n",
    "val_loader= DataLoader(dataset=val_set, batch_size=BATCH, shuffle=True)\n",
    "test_loader = DataLoader(dataset=test_dataset, batch_size=BATCH, shuffle=False)"
   ]
  },
  {
   "cell_type": "code",
   "execution_count": 10,
   "id": "100f9a76-3048-4da1-bb5f-8fe345bafb74",
   "metadata": {},
   "outputs": [
    {
     "name": "stdout",
     "output_type": "stream",
     "text": [
      "torch.Size([64, 3, 32, 32]) torch.Size([64])\n"
     ]
    }
   ],
   "source": [
    "for (data, target) in train_loader:\n",
    "    print(data.size(), target.size())\n",
    "    break"
   ]
  },
  {
   "cell_type": "markdown",
   "id": "014f5010-41ed-489b-915a-55dbebc94d8b",
   "metadata": {},
   "source": [
    "### 5. 모델 정의"
   ]
  },
  {
   "cell_type": "code",
   "execution_count": 34,
   "id": "b1cb288c-a64e-4a5a-98c7-307f3d9c9463",
   "metadata": {},
   "outputs": [],
   "source": [
    "class Net(nn.Module):\n",
    "    def __init__(self, input_size, hidden_size, output_size):\n",
    "        super().__init__()\n",
    "        self.flatten = nn.Flatten()\n",
    "        self.linear_ih = nn.Linear(input_size, hidden_size)\n",
    "        self.linear_hh = nn.Linear(hidden_size, hidden_size)\n",
    "        self.linear_ho = nn.Linear(hidden_size, output_size)\n",
    "        self.activation_layer = nn.ReLU()\n",
    "\n",
    "    def forward(self, x):\n",
    "        x = self.flatten(x)\n",
    "        x = self.linear_ih(x)\n",
    "        x = self.activation_layer(x)\n",
    "        x = self.linear_hh(x)\n",
    "        x = self.activation_layer(x)\n",
    "        y = self.linear_ho(x)\n",
    "        return y"
   ]
  },
  {
   "cell_type": "code",
   "execution_count": 35,
   "id": "a74ab76a-bcb1-48b2-bbe6-48b5328a8bf2",
   "metadata": {},
   "outputs": [],
   "source": [
    "model = Net(input_size=3*32*32, hidden_size=100, output_size=10).to(DEVICE)"
   ]
  },
  {
   "cell_type": "markdown",
   "id": "0f46c3ba-0681-4929-aaca-cda3595eda67",
   "metadata": {},
   "source": [
    "### 6. 손실함수 및 옵티마이저 정의, 파라미터 확인"
   ]
  },
  {
   "cell_type": "code",
   "execution_count": 28,
   "id": "a818f2f7-dbd1-4d0c-bb1e-9f730751853d",
   "metadata": {},
   "outputs": [
    {
     "name": "stdout",
     "output_type": "stream",
     "text": [
      "모델 파라미터 총 개수: 318410\n"
     ]
    }
   ],
   "source": [
    "#옵티마이저에는 모델에 내장되어있는 모든 매개변수를 인자로 전달해줘야한다.\n",
    "\n",
    "loss_function = nn.CrossEntropyLoss()\n",
    "optimizer = optim.Adam(model.parameters())\n",
    "\n",
    "num_params = 0 #모델에 사용되는 파라미터 확인위한 초기화\n",
    "for params in model.parameters():\n",
    "    num_params += params.view(-1).size(0)\n",
    "print('모델 파라미터 총 개수: {}'.format(num_params))"
   ]
  },
  {
   "cell_type": "markdown",
   "id": "ecb4c65c-2b52-4a6c-8341-f160df0d8b4a",
   "metadata": {},
   "source": [
    "### 7. 학습 및 테스트에 필요한 함수 정의\n",
    "- train 함수는 한 스텝 동안 발생하는 학습 과정\n",
    "- test 함수는 테스트 데이터로 모델의 성능을 결정하는 함수"
   ]
  },
  {
   "cell_type": "code",
   "execution_count": 29,
   "id": "e4002d5e-fc50-4099-9fcd-60d50340fc47",
   "metadata": {},
   "outputs": [],
   "source": [
    "def train(model,train_loader, loss_func, optimizer, step, device, print_step=200):\n",
    "    \"\"\"train function: 1 스텝 동안 발생하는 학습 과정\"\"\"\n",
    "    model.train() #모델한테 훈련단계라고 선언\n",
    "    for batch_idx, (data, target) in enumerate(train_loader):\n",
    "        data, target = data.to(device), target.to(device) #입력과 타겟을 동일한 디바이스에 올려줘야 됨\n",
    "\n",
    "        #forward\n",
    "        model.zero_grad() #경사 초기화\n",
    "        output = model(data)\n",
    "        loss = loss_func(output, target)\n",
    "\n",
    "        #backward\n",
    "        loss.backward()\n",
    "        optimizer.step()\n",
    "\n",
    "        if batch_idx % print_step ==0:\n",
    "            print('Train Step: {} ({:05.2f}%) \\tLoss: {:.4f}' .format(step, 100.*(batch_idx*train_loader.batch_size)/len(train_loader.dataset), loss.item()))\n",
    "\n",
    "\n",
    "def test(model, val_loader, loss_func, device):\n",
    "    model.eval()\n",
    "    val_loss=0\n",
    "    correct=0\n",
    "\n",
    "    with torch.no_grad():\n",
    "        for data, target in val_loader:\n",
    "            data, target = data.to(device), target.to(device)\n",
    "            output = model(data)\n",
    "            val_loss += loss_func(output, target, reduction=\"sum\").item()\n",
    "            pred = output.softmax(1).argmax(dim=1, keepdim=True)\n",
    "            correct += pred.eq(target.view_as(pred)).sum().item() #item은 텐서를 int로 변환\n",
    "        val_loss /= len(val_loader.dataset)\n",
    "        val_acc = correct / len(val_loader.dataset)\n",
    "        print('Val set: Average loss: {:.4f}, Accuracy: {}/{} ({:05.2f}%'.format(val_loss, correct, len(val_loader.dataset), 100. *val_acc))\n",
    "        return val_loss, val_acc\n",
    "\n",
    "def main(model, train_loader, val_loader, loss_func, optimizer, n_step, device, save_path, print_step):\n",
    "    val_accs = []\n",
    "    best_acc = 0.0\n",
    "\n",
    "    for step in range(1, n_step+1):\n",
    "        train(model, train_loader, loss_func, optimizer, step=step, device=device, print_step=print_step)\n",
    "        val_loss, val_acc =test(model, val_loader, loss_func=F.cross_entropy, device=device)\n",
    "\n",
    "        val_accs.append(val_acc)\n",
    "        if len(val_accs) >= 2:\n",
    "            if val_acc >=best_acc:\n",
    "                best_acc = val_acc\n",
    "                best_state_dict = model.state_dict()\n",
    "                print(\"discard previous state, best model state saved!\")\n",
    "        print(\"\")\n",
    "\n",
    "    torch.save(best_state_dict, save_path)"
   ]
  },
  {
   "cell_type": "markdown",
   "id": "1cd73aed-2ce7-4cf7-96c1-1df7bf7c4c4c",
   "metadata": {},
   "source": [
    "### 8. 학습 시작"
   ]
  },
  {
   "cell_type": "code",
   "execution_count": 30,
   "id": "296f01e2-2ec9-43c9-aaef-48415bed8779",
   "metadata": {
    "scrolled": true
   },
   "outputs": [
    {
     "name": "stdout",
     "output_type": "stream",
     "text": [
      "Train Step: 1 (00.00%) \tLoss: 2.2918\n",
      "Train Step: 1 (32.00%) \tLoss: 1.8545\n",
      "Train Step: 1 (64.00%) \tLoss: 1.8224\n",
      "Train Step: 1 (96.00%) \tLoss: 1.6865\n",
      "Val set: Average loss: 1.8106, Accuracy: 3518/10000 (35.18%\n",
      "\n",
      "Train Step: 2 (00.00%) \tLoss: 1.7608\n",
      "Train Step: 2 (32.00%) \tLoss: 1.7611\n",
      "Train Step: 2 (64.00%) \tLoss: 1.6628\n",
      "Train Step: 2 (96.00%) \tLoss: 1.3790\n",
      "Val set: Average loss: 1.6801, Accuracy: 3994/10000 (39.94%\n",
      "discard previous state, best model state saved!\n",
      "\n",
      "Train Step: 3 (00.00%) \tLoss: 1.6580\n",
      "Train Step: 3 (32.00%) \tLoss: 1.6154\n",
      "Train Step: 3 (64.00%) \tLoss: 1.5123\n",
      "Train Step: 3 (96.00%) \tLoss: 1.5630\n",
      "Val set: Average loss: 1.6147, Accuracy: 4227/10000 (42.27%\n",
      "discard previous state, best model state saved!\n",
      "\n",
      "Train Step: 4 (00.00%) \tLoss: 1.4886\n",
      "Train Step: 4 (32.00%) \tLoss: 1.5853\n",
      "Train Step: 4 (64.00%) \tLoss: 1.5061\n",
      "Train Step: 4 (96.00%) \tLoss: 1.7375\n",
      "Val set: Average loss: 1.6107, Accuracy: 4230/10000 (42.30%\n",
      "discard previous state, best model state saved!\n",
      "\n",
      "Train Step: 5 (00.00%) \tLoss: 1.3973\n",
      "Train Step: 5 (32.00%) \tLoss: 1.7508\n",
      "Train Step: 5 (64.00%) \tLoss: 1.6007\n",
      "Train Step: 5 (96.00%) \tLoss: 1.5486\n",
      "Val set: Average loss: 1.5607, Accuracy: 4430/10000 (44.30%\n",
      "discard previous state, best model state saved!\n",
      "\n",
      "Train Step: 6 (00.00%) \tLoss: 1.6945\n",
      "Train Step: 6 (32.00%) \tLoss: 1.5251\n",
      "Train Step: 6 (64.00%) \tLoss: 1.3022\n",
      "Train Step: 6 (96.00%) \tLoss: 1.4826\n",
      "Val set: Average loss: 1.5672, Accuracy: 4334/10000 (43.34%\n",
      "\n",
      "Train Step: 7 (00.00%) \tLoss: 1.4713\n",
      "Train Step: 7 (32.00%) \tLoss: 1.2644\n",
      "Train Step: 7 (64.00%) \tLoss: 1.5421\n",
      "Train Step: 7 (96.00%) \tLoss: 1.2985\n",
      "Val set: Average loss: 1.5261, Accuracy: 4590/10000 (45.90%\n",
      "discard previous state, best model state saved!\n",
      "\n",
      "Train Step: 8 (00.00%) \tLoss: 1.4216\n",
      "Train Step: 8 (32.00%) \tLoss: 1.3211\n",
      "Train Step: 8 (64.00%) \tLoss: 1.3594\n",
      "Train Step: 8 (96.00%) \tLoss: 1.3994\n",
      "Val set: Average loss: 1.5035, Accuracy: 4691/10000 (46.91%\n",
      "discard previous state, best model state saved!\n",
      "\n",
      "Train Step: 9 (00.00%) \tLoss: 1.3707\n",
      "Train Step: 9 (32.00%) \tLoss: 1.5093\n",
      "Train Step: 9 (64.00%) \tLoss: 1.6168\n",
      "Train Step: 9 (96.00%) \tLoss: 1.2421\n",
      "Val set: Average loss: 1.5147, Accuracy: 4643/10000 (46.43%\n",
      "\n",
      "Train Step: 10 (00.00%) \tLoss: 1.4619\n",
      "Train Step: 10 (32.00%) \tLoss: 1.5354\n",
      "Train Step: 10 (64.00%) \tLoss: 1.2329\n",
      "Train Step: 10 (96.00%) \tLoss: 1.4541\n",
      "Val set: Average loss: 1.5154, Accuracy: 4600/10000 (46.00%\n",
      "\n"
     ]
    }
   ],
   "source": [
    "main (model=model,\n",
    "      train_loader=train_loader,\n",
    "      val_loader=val_loader,\n",
    "      loss_func=loss_function,\n",
    "      optimizer=optimizer,\n",
    "      n_step=STEP,\n",
    "      device=DEVICE,\n",
    "      save_path=\"cifar10_model.pt\",\n",
    "      print_step=200)"
   ]
  },
  {
   "cell_type": "markdown",
   "id": "29f79654-0c64-4a21-be70-91020ea7cc4c",
   "metadata": {},
   "source": [
    "### 9. test loader로 확인"
   ]
  },
  {
   "cell_type": "code",
   "execution_count": 71,
   "id": "1d688d55-27eb-43e2-899b-f91bb78a1150",
   "metadata": {},
   "outputs": [
    {
     "name": "stdout",
     "output_type": "stream",
     "text": [
      "Predicted: airplane\n",
      "Target: deer\n",
      " \n",
      "Misclassification...\n"
     ]
    },
    {
     "data": {
      "image/png": "[encoded data removed]",
      "text/plain": [
       "<Figure size 640x480 with 1 Axes>"
      ]
     },
     "metadata": {},
     "output_type": "display_data"
    }
   ],
   "source": [
    "# torch.manual_seed(70)\n",
    "\n",
    "idx = torch.randint(0, len(test_dataset), (1,)).item()\n",
    "\n",
    "random_img = test_dataset[idx][0].unsqueeze(0) \n",
    "target_num = test_dataset[idx][1]\n",
    "\n",
    "label = {0:\"airplane\",\n",
    "         1:\"automobile\",\n",
    "         2:\"bird\",\n",
    "         3:\"cat\",\n",
    "         4:\"deer\",\n",
    "         5:\"dog\",\n",
    "         6:\"frog\",\n",
    "         7:\"horse\",\n",
    "         8:\"ship\",\n",
    "         9:\"truck\"}\n",
    "\n",
    "model.eval()\n",
    "\n",
    "pred = model(random_img) \n",
    "\n",
    "plt.imshow(random_img.squeeze().permute(1,2,0))\n",
    "print(\"Predicted: {}\".format(label[pred.softmax(1).argmax().item()]))\n",
    "print(\"Target: {}\".format(label[target_num]))\n",
    "print(\" \")\n",
    "if target_num == pred.softmax(1).argmax().item() :\n",
    "    print(\"Prediction succeeded!\")\n",
    "\n",
    "else:\n",
    "    print(\"Misclassification...\")"
   ]
  },
  {
   "cell_type": "code",
   "execution_count": null,
   "id": "033f2004-becf-452f-a291-45c6296043f0",
   "metadata": {},
   "outputs": [],
   "source": []
  }
 ],
 "metadata": {
  "kernelspec": {
   "display_name": "Python(torchenv)",
   "language": "python",
   "name": "torchenv"
  },
  "language_info": {
   "codemirror_mode": {
    "name": "ipython",
    "version": 3
   },
   "file_extension": ".py",
   "mimetype": "text/x-python",
   "name": "python",
   "nbconvert_exporter": "python",
   "pygments_lexer": "ipython3",
   "version": "3.9.21"
  }
 },
 "nbformat": 4,
 "nbformat_minor": 5
}
