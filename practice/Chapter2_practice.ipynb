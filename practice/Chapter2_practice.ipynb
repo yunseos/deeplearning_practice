{
 "cells": [
  {
   "cell_type": "code",
   "execution_count": 5,
   "id": "0d2fd955-a165-4c64-90f5-ab4b1cb1ace2",
   "metadata": {},
   "outputs": [],
   "source": [
    "import torch \n",
    "\n",
    "x_list = [[1,2,3],[4,5,6]]\n",
    "x=torch.Tensor(x_list)"
   ]
  },
  {
   "cell_type": "code",
   "execution_count": 6,
   "id": "f9234385-6dcf-4292-876c-72e3ce59f20a",
   "metadata": {},
   "outputs": [
    {
     "name": "stdout",
     "output_type": "stream",
     "text": [
      "cpu\n"
     ]
    }
   ],
   "source": [
    "print(x.device)"
   ]
  },
  {
   "cell_type": "code",
   "execution_count": 8,
   "id": "20a565a2-708b-482b-a9c0-ff017b2713e0",
   "metadata": {},
   "outputs": [
    {
     "name": "stdout",
     "output_type": "stream",
     "text": [
      "tensor([[0.3515, 0.5056, 0.2987],\n",
      "        [0.7795, 0.2327, 0.3886]])\n"
     ]
    }
   ],
   "source": [
    "print(torch.rand(2,3))"
   ]
  },
  {
   "cell_type": "code",
   "execution_count": 11,
   "id": "7494f4c8-ea78-41fc-a545-6761f93eb190",
   "metadata": {},
   "outputs": [
    {
     "name": "stdout",
     "output_type": "stream",
     "text": [
      "tensor([[2, 3, 0],\n",
      "        [1, 6, 3]])\n"
     ]
    }
   ],
   "source": [
    "print(torch.randint(low=0, high=8, size=(2,3)))"
   ]
  },
  {
   "cell_type": "code",
   "execution_count": 13,
   "id": "fc0f3329-2a74-4a10-8f22-8dc47170f74c",
   "metadata": {},
   "outputs": [
    {
     "name": "stdout",
     "output_type": "stream",
     "text": [
      "tensor([[0., 0., 0.],\n",
      "        [0., 0., 0.]])\n"
     ]
    }
   ],
   "source": [
    "x_zeros = torch.zeros_like(x.cpu())\n",
    "print(x_zeros)"
   ]
  },
  {
   "cell_type": "code",
   "execution_count": 15,
   "id": "582baea8-7234-4067-b789-05f41cdb6d45",
   "metadata": {},
   "outputs": [
    {
     "name": "stdout",
     "output_type": "stream",
     "text": [
      "tensor([[[5, 9, 4, 8],\n",
      "         [3, 3, 1, 1],\n",
      "         [9, 2, 8, 9]],\n",
      "\n",
      "        [[6, 3, 3, 0],\n",
      "         [2, 1, 2, 6],\n",
      "         [0, 3, 6, 4]]])\n"
     ]
    }
   ],
   "source": [
    "torch.manual_seed(1)\n",
    "x = torch.randint(0, 10, size=(2,3,4))\n",
    "print(x)"
   ]
  },
  {
   "cell_type": "code",
   "execution_count": 16,
   "id": "9b047f27-4374-4c56-aec7-843cc33f9590",
   "metadata": {},
   "outputs": [
    {
     "name": "stdout",
     "output_type": "stream",
     "text": [
      "tensor([[[5, 9, 4, 8, 3, 3],\n",
      "         [1, 1, 9, 2, 8, 9]],\n",
      "\n",
      "        [[6, 3, 3, 0, 2, 1],\n",
      "         [2, 6, 0, 3, 6, 4]]])\n"
     ]
    }
   ],
   "source": [
    "print(x.view(2,2,6))"
   ]
  },
  {
   "cell_type": "code",
   "execution_count": 17,
   "id": "f6e46f83-7b7c-4ed4-b980-371354fbb5bb",
   "metadata": {},
   "outputs": [
    {
     "name": "stdout",
     "output_type": "stream",
     "text": [
      "tensor([[[5, 9, 4, 8, 3, 3, 1, 1, 9, 2, 8, 9]],\n",
      "\n",
      "        [[6, 3, 3, 0, 2, 1, 2, 6, 0, 3, 6, 4]]])\n"
     ]
    }
   ],
   "source": [
    "print(x.view(-1,1,12))"
   ]
  },
  {
   "cell_type": "code",
   "execution_count": 19,
   "id": "d2efd19b-086c-4801-a1c0-1150a41fddb5",
   "metadata": {},
   "outputs": [
    {
     "name": "stdout",
     "output_type": "stream",
     "text": [
      "tensor([[[5, 9, 4, 8],\n",
      "         [6, 3, 3, 0]],\n",
      "\n",
      "        [[3, 3, 1, 1],\n",
      "         [2, 1, 2, 6]],\n",
      "\n",
      "        [[9, 2, 8, 9],\n",
      "         [0, 3, 6, 4]]])\n"
     ]
    }
   ],
   "source": [
    "x_transposed = x.transpose(0,1) #첫번째와 두번째 차원이 바뀜\n",
    "print(x_transposed)"
   ]
  },
  {
   "cell_type": "code",
   "execution_count": 22,
   "id": "bbfb3dc7-64ab-46af-9506-63c92e8b69c7",
   "metadata": {},
   "outputs": [
    {
     "name": "stdout",
     "output_type": "stream",
     "text": [
      "tensor([[1, 2, 3],\n",
      "        [4, 5, 6]])\n"
     ]
    },
    {
     "data": {
      "text/plain": [
       "tensor([[1, 4],\n",
       "        [2, 5],\n",
       "        [3, 6]])"
      ]
     },
     "execution_count": 22,
     "metadata": {},
     "output_type": "execute_result"
    }
   ],
   "source": [
    "A = torch.LongTensor([[1,2,3],[4,5,6]])\n",
    "print(A)\n",
    "A.t()"
   ]
  },
  {
   "cell_type": "code",
   "execution_count": 32,
   "id": "1910425e-48cf-4860-b428-b484cd25ac92",
   "metadata": {},
   "outputs": [
    {
     "name": "stdout",
     "output_type": "stream",
     "text": [
      "tensor([[0.6601, 0.8238, 0.2413],\n",
      "        [0.6084, 0.3180, 0.3877]])\n",
      "tensor([[0.1015, 0.2721, 0.3469],\n",
      "        [0.7138, 0.5913, 0.6235]])\n",
      "tensor([[0.6601, 0.8238, 0.2413, 0.1015, 0.2721, 0.3469],\n",
      "        [0.6084, 0.3180, 0.3877, 0.7138, 0.5913, 0.6235]])\n"
     ]
    }
   ],
   "source": [
    "A=torch.rand(2,3)\n",
    "print(A)\n",
    "\n",
    "B=torch.rand(2,3)\n",
    "print(B)\n",
    "\n",
    "AB_concat = torch.cat([A,B], dim=1)\n",
    "print(AB_concat)"
   ]
  },
  {
   "cell_type": "code",
   "execution_count": 35,
   "id": "41f619e7-189f-4619-bcca-b8c3ac2f725a",
   "metadata": {},
   "outputs": [
    {
     "name": "stdout",
     "output_type": "stream",
     "text": [
      "tensor([[[0.6601, 0.8238, 0.2413],\n",
      "         [0.6084, 0.3180, 0.3877]],\n",
      "\n",
      "        [[0.1015, 0.2721, 0.3469],\n",
      "         [0.7138, 0.5913, 0.6235]]])\n",
      "torch.Size([2, 2, 3])\n"
     ]
    }
   ],
   "source": [
    "AB_stack = torch.stack([A,B],dim=0)\n",
    "print(AB_stack)\n",
    "print(AB_stack.size())"
   ]
  },
  {
   "cell_type": "code",
   "execution_count": 38,
   "id": "de75bc2e-8ec9-426b-aacf-b3aeaa5d7023",
   "metadata": {},
   "outputs": [
    {
     "name": "stdout",
     "output_type": "stream",
     "text": [
      "tensor([4, 6, 8])\n",
      "tensor([-2, -2, -2])\n"
     ]
    }
   ],
   "source": [
    "x = torch.LongTensor([1,2,3])\n",
    "y = torch.LongTensor([3,4,5])\n",
    "\n",
    "print(torch.add(x,y))\n",
    "print(torch.sub(x,y))"
   ]
  },
  {
   "cell_type": "code",
   "execution_count": 39,
   "id": "78e80303-d182-4c87-92ac-3a65b9d0afd9",
   "metadata": {},
   "outputs": [
    {
     "name": "stdout",
     "output_type": "stream",
     "text": [
      "tensor([ 3,  8, 15])\n"
     ]
    }
   ],
   "source": [
    "print(torch.mul(x,y))"
   ]
  },
  {
   "cell_type": "code",
   "execution_count": 40,
   "id": "6203bce3-fdc6-4003-a9f8-e258ed4de3b6",
   "metadata": {},
   "outputs": [
    {
     "name": "stdout",
     "output_type": "stream",
     "text": [
      "tensor([ 3,  8, 15])\n"
     ]
    }
   ],
   "source": [
    "print(x*y)"
   ]
  },
  {
   "cell_type": "code",
   "execution_count": 42,
   "id": "e3fc0a65-e8f5-44e0-9624-0201a99d1229",
   "metadata": {},
   "outputs": [
    {
     "name": "stdout",
     "output_type": "stream",
     "text": [
      "tensor(26)\n"
     ]
    }
   ],
   "source": [
    "print(torch.dot(x,y))"
   ]
  },
  {
   "cell_type": "code",
   "execution_count": 47,
   "id": "a612212b-bee1-4472-b6ad-fa47ba1c21d6",
   "metadata": {},
   "outputs": [
    {
     "name": "stdout",
     "output_type": "stream",
     "text": [
      "tensor([[39., 49.],\n",
      "        [54., 68.],\n",
      "        [69., 87.]])\n"
     ]
    }
   ],
   "source": [
    "X = torch.Tensor([[1,4], [2,5], [3,6]])\n",
    "Y = torch.Tensor([[7,9], [8,10]])\n",
    "\n",
    "print(torch.mm(X,Y))"
   ]
  },
  {
   "cell_type": "code",
   "execution_count": 48,
   "id": "589fdeda-1785-4a60-a767-9c9d5f0505e1",
   "metadata": {},
   "outputs": [
    {
     "name": "stdout",
     "output_type": "stream",
     "text": [
      "tensor([[[1., 2.],\n",
      "         [3., 4.]],\n",
      "\n",
      "        [[5., 6.],\n",
      "         [7., 8.]]])\n"
     ]
    }
   ],
   "source": [
    "z=torch.Tensor([[[1,2],[3,4]],[[5,6],[7,8]]])\n",
    "print(z)"
   ]
  },
  {
   "cell_type": "code",
   "execution_count": 49,
   "id": "33dfe164-46ba-48c2-9367-3c1711b10b2f",
   "metadata": {},
   "outputs": [
    {
     "name": "stdout",
     "output_type": "stream",
     "text": [
      "tensor(8.)\n"
     ]
    }
   ],
   "source": [
    "print(torch.max(z))"
   ]
  },
  {
   "cell_type": "code",
   "execution_count": 50,
   "id": "4cc5ff96-4417-4370-b58c-587116531d02",
   "metadata": {},
   "outputs": [
    {
     "name": "stdout",
     "output_type": "stream",
     "text": [
      "tensor(7)\n"
     ]
    }
   ],
   "source": [
    "print(torch.argmax(z))"
   ]
  },
  {
   "cell_type": "code",
   "execution_count": 52,
   "id": "16b4a5c1-277b-4140-baf1-c2c85b146205",
   "metadata": {},
   "outputs": [
    {
     "name": "stdout",
     "output_type": "stream",
     "text": [
      "torch.return_types.max(\n",
      "values=tensor([[3., 4.],\n",
      "        [7., 8.]]),\n",
      "indices=tensor([[1, 1],\n",
      "        [1, 1]]))\n"
     ]
    }
   ],
   "source": [
    "print(torch.max(z,dim=1))"
   ]
  },
  {
   "cell_type": "code",
   "execution_count": 1,
   "id": "6d64cea7-3343-43fc-86cf-979f98c263ec",
   "metadata": {},
   "outputs": [
    {
     "name": "stdout",
     "output_type": "stream",
     "text": [
      "True\n",
      "True\n",
      "False\n"
     ]
    }
   ],
   "source": [
    "def STEP(z):\n",
    "    \"\"\"step function\"\"\"\n",
    "    return z>0\n",
    "\n",
    "print(STEP(4))\n",
    "print(STEP(0.1))\n",
    "print(STEP(-1))"
   ]
  },
  {
   "cell_type": "code",
   "execution_count": 7,
   "id": "36213486-1e6f-4156-b588-c567f2449ac3",
   "metadata": {},
   "outputs": [
    {
     "name": "stdout",
     "output_type": "stream",
     "text": [
      "input : [0, 0]\n",
      " - AND: False\n",
      " - NAND: True\n",
      " - OR: False\n",
      "------------------------------\n",
      "input : [0, 1]\n",
      " - AND: False\n",
      " - NAND: True\n",
      " - OR: True\n",
      "------------------------------\n",
      "input : [1, 0]\n",
      " - AND: False\n",
      " - NAND: True\n",
      " - OR: True\n",
      "------------------------------\n",
      "input : [1, 1]\n",
      " - AND: True\n",
      " - NAND: False\n",
      " - OR: True\n",
      "------------------------------\n"
     ]
    }
   ],
   "source": [
    "def AND(x,w,b):\n",
    "    \"\"\"AND function\"\"\"\n",
    "    z=torch.dot(x,w)+b\n",
    "    a=STEP(z)\n",
    "    return a\n",
    "\n",
    "def NAND(x,w,b):\n",
    "    \"\"\"NAND function\"\"\"\n",
    "    z=torch.dot(x,w)+b\n",
    "    a=STEP(z)\n",
    "    return a\n",
    "\n",
    "def OR(x,w,b):\n",
    "    \"\"\"OR function\"\"\"\n",
    "    z=torch.dot(x,w)+b\n",
    "    a=STEP(z)\n",
    "    return a\n",
    "\n",
    "w_and = torch.Tensor([0.5,0.5])\n",
    "b_and = torch.Tensor([-0.7])\n",
    "w_nand = torch.Tensor([-0.5, -0.5])\n",
    "b_nand = torch.Tensor([0.7])\n",
    "w_or = torch.Tensor([0.5, 0.5])\n",
    "b_or = torch.Tensor([-0.2])\n",
    "\n",
    "X = torch.Tensor([[0,0], [0,1], [1,0], [1,1]])\n",
    "for x in X:\n",
    "    print(\"input : {}\".format(x.long().tolist()))\n",
    "    print(\" - AND:\", AND(x, w=w_and, b=b_and).item())\n",
    "    print(\" - NAND:\", NAND(x, w=w_nand, b=b_nand).item())\n",
    "    print(\" - OR:\", OR(x, w=w_or, b=b_or).item())\n",
    "    print(\"--\"*15)"
   ]
  },
  {
   "cell_type": "code",
   "execution_count": 13,
   "id": "e9e2a4c3-4843-4aff-b23e-2a0ed13d54ff",
   "metadata": {},
   "outputs": [
    {
     "name": "stdout",
     "output_type": "stream",
     "text": [
      "predict:[False] | target: 0\n",
      "predict:[ True] | target: 1\n",
      "predict:[ True] | target: 1\n",
      "predict:[False] | target: 0\n"
     ]
    }
   ],
   "source": [
    "def solution(x, **kwargs):\n",
    "    s1 = NAND(x, w=kwargs['w_nand'], b=kwargs['b_nand'])\n",
    "    s2 = OR(x, w=kwargs['w_or'], b=kwargs['b_or'])\n",
    "    y = AND(torch.Tensor([s1, s2]), w=kwargs['w_and'], b=kwargs['b_and'])\n",
    "    return y\n",
    "\n",
    "input_data=torch.FloatTensor([[0,0],[1,0],[0,1],[1,1]])\n",
    "target_data = torch.ByteTensor([0,1,1,0])\n",
    "\n",
    "kwargs = dict([('w_nand',w_nand), ('b_nand', b_nand), ('w_or', w_or), ('b_or', b_or), ('w_and', w_and), ('b_and', b_and)])\n",
    "\n",
    "for x, y in zip(input_data, target_data):\n",
    "    pred = solution (x, **kwargs)\n",
    "    print(\"predict:{} | target: {}\".format(pred.numpy(), y.numpy()))"
   ]
  },
  {
   "cell_type": "code",
   "execution_count": 15,
   "id": "65740ea2-f6d6-4f66-9b60-6942381a3b54",
   "metadata": {},
   "outputs": [],
   "source": [
    "#입력층에서 은닉층 코드\n",
    "\n",
    "torch.manual_seed(70)\n",
    "x = torch.Tensor([[0,1]])\n",
    "\n",
    "W1 = torch.rand(2,2)\n",
    "b1 = torch.rand(2,2)\n",
    "z1 = torch.mm(x,W1.t())+b1\n",
    "a1 = torch.sigmoid(z1)"
   ]
  },
  {
   "cell_type": "code",
   "execution_count": 20,
   "id": "35f27e42-07e5-4690-9444-2cc1249d3ef5",
   "metadata": {},
   "outputs": [
    {
     "name": "stdout",
     "output_type": "stream",
     "text": [
      "tensor([[1.3428],\n",
      "        [1.4501]])\n"
     ]
    }
   ],
   "source": [
    "def identify_func(x):\n",
    "    \"\"\"항등함수\"\"\"\n",
    "    return x\n",
    "\n",
    "W2=torch.rand((1,2))\n",
    "b2=torch.rand((1,1))\n",
    "\n",
    "z2=torch.mm(a1, W2.t())+b2\n",
    "y=identify_func(z2)\n",
    "\n",
    "print(y)"
   ]
  },
  {
   "cell_type": "code",
   "execution_count": 22,
   "id": "de45015e-3641-40a2-a7fe-cfe969e0c8f5",
   "metadata": {},
   "outputs": [
    {
     "name": "stdout",
     "output_type": "stream",
     "text": [
      "-0.014880791306495667\n"
     ]
    }
   ],
   "source": [
    "import torch.nn as nn\n",
    "# 선형 결합, sigmoid 모듈 선언\n",
    "linear_ih = nn.Linear(in_features=2, out_features=2) #input --> hidden layer\n",
    "linear_ho = nn.Linear(in_features=2, out_features=1) #hidden --> output layer\n",
    "activation_layer = nn.Sigmoid()\n",
    "\n",
    "z1 = linear_ih(x)\n",
    "a1 = activation_layer(z1)\n",
    "z2 = linear_ho(a1)\n",
    "y = identify_func(z2)\n",
    "print(y.item())"
   ]
  },
  {
   "cell_type": "code",
   "execution_count": 24,
   "id": "0e355994-73b0-4a82-b3db-e17f6140a0bc",
   "metadata": {},
   "outputs": [
    {
     "name": "stdout",
     "output_type": "stream",
     "text": [
      "-0.6631239056587219\n"
     ]
    }
   ],
   "source": [
    "class Network(nn.Module):\n",
    "    \"\"\"XOR Network\"\"\"\n",
    "    def __init__(self, input_size, hidden_size, output_size):\n",
    "        super().__init__()\n",
    "        self.linear_ih = nn.Linear(in_features=input_size, out_features=hidden_size)\n",
    "        self.linear_ho = nn.Linear(in_features=hidden_size, out_features=output_size)\n",
    "        self.activation_layer = nn.Sigmoid()\n",
    "\n",
    "    def identify_func(self, x):\n",
    "        return x\n",
    "\n",
    "    def forward(self, x):\n",
    "        z1 = self.linear_ih(x)\n",
    "        a1 = self.activation_layer(z1)\n",
    "        z2 = self.linear_ho(a1)\n",
    "        y = self.identify_func(z2)\n",
    "        return y\n",
    "\n",
    "net = Network(input_size =2, hidden_size =2, output_size=1)\n",
    "y=net(x)\n",
    "print(y.item())"
   ]
  },
  {
   "cell_type": "code",
   "execution_count": 44,
   "id": "09d937c2-6e8c-4c8f-a848-884e7beb176e",
   "metadata": {},
   "outputs": [
    {
     "name": "stdout",
     "output_type": "stream",
     "text": [
      "0.4284513592720032\n"
     ]
    }
   ],
   "source": [
    "#출력값을 확률로 표현하기 \n",
    "\n",
    "class Network(nn.Module):\n",
    "    def __init__(self, input_size, hidden_size, output_size):\n",
    "        super().__init__()\n",
    "        self.linear_ih = nn.Linear(in_features=input_size, out_features=hidden_size)\n",
    "        self.linear_ho = nn.Linear(in_features=hidden_size, out_features=output_size)\n",
    "        self.activation_layer = nn.Sigmoid()\n",
    "\n",
    "    def forward(self, x):\n",
    "        z1 = self.linear_ih(x)\n",
    "        a1 = self.activation_layer(z1)\n",
    "        z2 = self.linear_ho(a1)\n",
    "        y = self.activation_layer(z2)\n",
    "        return y\n",
    "\n",
    "x = torch.Tensor([[0,0]])\n",
    "net = Network(input_size =2, hidden_size = 2, output_size =1)\n",
    "y = net(x)\n",
    "print(y.item())"
   ]
  },
  {
   "cell_type": "code",
   "execution_count": 28,
   "id": "ecc8d506-e347-49e8-9acc-68deafdd2555",
   "metadata": {},
   "outputs": [
    {
     "name": "stdout",
     "output_type": "stream",
     "text": [
      "0.673\n",
      "0.0\n"
     ]
    }
   ],
   "source": [
    "P = torch.Tensor([0.4, 0.6]) #앞면이 40, 뒷면이 60 나올 확률의 동전\n",
    "Q = torch.Tensor([0.0, 1.0]) #뒷면만 100퍼센트로 나오는 동전\n",
    "\n",
    "def self_information(x):\n",
    "    return -torch.log(x)\n",
    "\n",
    "def entropy(x):\n",
    "    e = 1e-30\n",
    "    return torch.sum((x+e)*self_information(x+e))\n",
    "\n",
    "print(entropy(P).numpy().round(4))\n",
    "print(entropy(Q).numpy().round(4)) #항상 같은 면만 나오기 때문에 정보량이 없음"
   ]
  },
  {
   "cell_type": "code",
   "execution_count": 29,
   "id": "b658d75d-b38f-4d3a-a431-d048e78dd5d6",
   "metadata": {},
   "outputs": [
    {
     "name": "stdout",
     "output_type": "stream",
     "text": [
      "tensor(0.0204)\n",
      "tensor(33.8456)\n"
     ]
    }
   ],
   "source": [
    "def KL_divergence(q, p):\n",
    "    \"\"\"q: predict prob, p: target prob\"\"\"\n",
    "    e = 1e-30\n",
    "    return torch.sum((p+e)*torch.log(p+e) - (p+e)*torch.log(q+e))\n",
    "\n",
    "U = torch.Tensor([0.5, 0.5])\n",
    "print (KL_divergence(P, U))\n",
    "print(KL_divergence(Q,U))"
   ]
  },
  {
   "cell_type": "code",
   "execution_count": 31,
   "id": "2ae906f0-03f6-44b1-bf7b-929aa4512758",
   "metadata": {},
   "outputs": [
    {
     "name": "stdout",
     "output_type": "stream",
     "text": [
      "tensor(0.0204)\n",
      "tensor(33.8456)\n"
     ]
    }
   ],
   "source": [
    "loss_function = nn.KLDivLoss(reduction =\"sum\")\n",
    "e =1e-30\n",
    "print(loss_function(torch.log(P+e), U+e)) #확률분포 P와 U의 KL divergence\n",
    "print(loss_function(torch.log(Q+e), U+e)) #확률분포 Q와 U의 KL divergence"
   ]
  },
  {
   "cell_type": "code",
   "execution_count": 33,
   "id": "af390fc6-e253-44e1-8ca5-234382b4c7fe",
   "metadata": {},
   "outputs": [
    {
     "name": "stdout",
     "output_type": "stream",
     "text": [
      "tensor([[1., 0.],\n",
      "        [0., 1.]])\n",
      "tensor([[0., 1.]])\n",
      "tensor([[0.5796, 0.4204]], grad_fn=<CatBackward0>)\n",
      "tensor(0.8667, grad_fn=<SumBackward0>)\n"
     ]
    }
   ],
   "source": [
    "#XOR 문제의 KL divergence 구하기\n",
    "\n",
    "torch.manual_seed(70) #랜덤 시드 고정\n",
    "x = torch.Tensor([[0,1]])\n",
    "t = torch.Tensor([1])\n",
    "\n",
    "net = Network(input_size=2, hidden_size =2, output_size =1)\n",
    "y = net(x)\n",
    "\n",
    "one_hot = torch.eye(2)\n",
    "print(one_hot)\n",
    "prob_t = one_hot.index_select(dim=0, index=t.long())\n",
    "\n",
    "prob_y = torch.cat([1-y, y], dim=1) #예측값도 확률 분포로 만들어줌. y=1이 될 확률분포임\n",
    "print(prob_t)\n",
    "print(prob_y)\n",
    "\n",
    "loss_function = nn.KLDivLoss(reduction=\"sum\")\n",
    "print(loss_function(torch.log(prob_y), prob_t))\n"
   ]
  },
  {
   "cell_type": "code",
   "execution_count": 34,
   "id": "6bc3497c-9fbc-483c-b07e-2ba879849fad",
   "metadata": {},
   "outputs": [
    {
     "name": "stdout",
     "output_type": "stream",
     "text": [
      "tensor(0.8667, grad_fn=<BinaryCrossEntropyBackward0>)\n"
     ]
    }
   ],
   "source": [
    "torch.manual_seed(70)\n",
    "\n",
    "x = torch.Tensor([[0,1]])\n",
    "t = torch.Tensor([1])\n",
    "\n",
    "net = Network(input_size =2, hidden_size =2, output_size =1)\n",
    "y = net(x)\n",
    "\n",
    "loss_function = nn.BCELoss(reduction=\"sum\")\n",
    "print(loss_function(y.squeeze(1),t))"
   ]
  },
  {
   "cell_type": "code",
   "execution_count": 37,
   "id": "32c55092-b428-4b3f-b83c-575e7a07f0cf",
   "metadata": {},
   "outputs": [
    {
     "name": "stdout",
     "output_type": "stream",
     "text": [
      "tensor([[0.4350, 0.3591, 0.3411, 0.2644, 0.6656, 0.1341, 0.7236, 0.6668, 0.1091,\n",
      "         0.5745]])\n",
      "tensor([[0.0986, 0.0914, 0.0897, 0.0831, 0.1241, 0.0729, 0.1315, 0.1243, 0.0711,\n",
      "         0.1133]])\n"
     ]
    }
   ],
   "source": [
    "torch.manual_seed(70)\n",
    "z = torch.rand(1,10)\n",
    "\n",
    "y= torch.softmax(z, dim=1)\n",
    "print(z)\n",
    "print(y)"
   ]
  },
  {
   "cell_type": "code",
   "execution_count": 39,
   "id": "994440c8-455f-4f33-a234-0fc25ced8d15",
   "metadata": {},
   "outputs": [
    {
     "name": "stdout",
     "output_type": "stream",
     "text": [
      "tensor(2.3930)\n"
     ]
    }
   ],
   "source": [
    "loss_function = nn.CrossEntropyLoss(reduction=\"sum\")\n",
    "print(loss_function(z, t.long()))"
   ]
  },
  {
   "cell_type": "code",
   "execution_count": 46,
   "id": "5744f338-bf99-4ccf-a5ab-349a9f845c9d",
   "metadata": {},
   "outputs": [
    {
     "name": "stdout",
     "output_type": "stream",
     "text": [
      "9\n"
     ]
    }
   ],
   "source": [
    "#XOR 문제에서 매개변수 몇개인지 구하기\n",
    "\n",
    "import torch\n",
    "import torch.nn as nn\n",
    "\n",
    "torch.manual_seed(70)\n",
    "\n",
    "class Network(nn.Module):\n",
    "    def __init__(self, input_size, hidden_size, output_size):\n",
    "        super().__init__()\n",
    "        self.linear_ih = nn.Linear(in_features = input_size, out_features = hidden_size)\n",
    "        self.linear_ho = nn.Linear(in_features = hidden_size, out_features = output_size)\n",
    "        self.activation_layer = nn.Sigmoid()\n",
    "\n",
    "    def forward(self, x):\n",
    "        z1 = self.linear_ih(x)\n",
    "        a1 = self.activation_layer(z1)\n",
    "        z2 = self.linear_ho(a1)\n",
    "        y = self.activation_layer(z2)\n",
    "        return y\n",
    "\n",
    "net = Network(input_size =2, hidden_size=2, output_size=1)\n",
    "num_params = 0\n",
    "for p in net.parameters():\n",
    "    num_params += p.view(-1).size(0)\n",
    "print(num_params)"
   ]
  },
  {
   "cell_type": "code",
   "execution_count": 48,
   "id": "eb7c1e3a-0663-4c2f-8838-f3d412957310",
   "metadata": {},
   "outputs": [
    {
     "name": "stdout",
     "output_type": "stream",
     "text": [
      "tensor([9.])\n"
     ]
    }
   ],
   "source": [
    "def z_function(t):\n",
    "    return t**2\n",
    "\n",
    "def t_function(x, y):\n",
    "    return x+y\n",
    "\n",
    "def forward(x,y):\n",
    "    t = t_function(x,y)\n",
    "    z = z_function(t)\n",
    "    return z\n",
    "\n",
    "\n",
    "x = torch.Tensor([1])\n",
    "y = torch.Tensor([2])\n",
    "print(forward(x,y))"
   ]
  },
  {
   "cell_type": "code",
   "execution_count": 49,
   "id": "43f7e9fd-cd14-4c9d-a9c7-c6d3ffacc417",
   "metadata": {},
   "outputs": [
    {
     "name": "stdout",
     "output_type": "stream",
     "text": [
      "tensor([8.])\n"
     ]
    }
   ],
   "source": [
    "#역전파\n",
    "\n",
    "def z_prime(t):\n",
    "    \"\"\"dz/dt\"\"\"\n",
    "    return 2*t\n",
    "\n",
    "def t_prime():\n",
    "    \"\"\"dt/dx = dt/dy\"\"\"\n",
    "    return 1\n",
    "\n",
    "def backward(t):\n",
    "    \"\"\"dz/dx\"\"\"\n",
    "    dx = z_prime(t) * t_prime()\n",
    "    return dx\n",
    "\n",
    "x = torch.Tensor([1])\n",
    "y = torch.Tensor([3])\n",
    "t = t_function(x,y)\n",
    "dx = backward(t)\n",
    "print(dx)"
   ]
  },
  {
   "cell_type": "code",
   "execution_count": 51,
   "id": "1417d068-fda0-47e1-a301-e3eaabb46ade",
   "metadata": {},
   "outputs": [
    {
     "name": "stdout",
     "output_type": "stream",
     "text": [
      "requires grad: x=tensor([1.], requires_grad=True), y=tensor([3.], requires_grad=True), z=tensor([16.], grad_fn=<PowBackward0>)\n",
      "gradient function of z: <PowBackward0 object at 0xf4730cb87940>\n",
      "dx = tensor([8.])\n"
     ]
    }
   ],
   "source": [
    "#requires_grad_()\n",
    "x = torch.Tensor([1]).requires_grad_()\n",
    "y = torch.Tensor([3])\n",
    "z = forward(x,y)\n",
    "\n",
    "print(\"requires grad: x={}, y={}, z={}\".format(x.requires_grad_(), y.requires_grad_(), z.requires_grad_()))\n",
    "      \n",
    "print(\"gradient function of z: {}\".format(z.grad_fn))\n",
    "\n",
    "z.backward()\n",
    "print(\"dx = {}\".format(x.grad))"
   ]
  },
  {
   "cell_type": "code",
   "execution_count": 52,
   "id": "e1d64551-5e37-469e-bfd3-1f994b795fad",
   "metadata": {},
   "outputs": [],
   "source": [
    "#파이토치는 오차 역전파를 위한 도구를 torch.optim에 담음\n",
    "\n",
    "#파이토치에서의 학습과정\n",
    "#1. 입력 및 타겟 데이터 전처리, 모델, 손실함수 그리고 경사하강법을 수행하는 옵티마이저 정의\n",
    "#2. 몇회 학습시킬지 결정\n",
    "    #) 경사 초기화, 순방향 전파, 손실값 계산, 역방향 전파, 옵티마이저로 매개변수 업데이트"
   ]
  },
  {
   "cell_type": "code",
   "execution_count": 53,
   "id": "c07e50fe-6e0a-4b05-9e75-d86d8d308f70",
   "metadata": {},
   "outputs": [
    {
     "name": "stdout",
     "output_type": "stream",
     "text": [
      "0:\t 0.6927\n",
      "1000:\t 0.2574\n",
      "2000:\t 0.0210\n",
      "3000:\t 0.0102\n",
      "4000:\t 0.0067\n",
      "5000:\t 0.0049\n",
      "6000:\t 0.0039\n",
      "7000:\t 0.0032\n",
      "8000:\t 0.0028\n",
      "9000:\t 0.0024\n",
      "10000:\t 0.0021\n",
      "tensor([False,  True,  True, False])\n"
     ]
    }
   ],
   "source": [
    "import torch.optim as optim\n",
    "\n",
    "x = torch.Tensor([[0,0], [0,1], [1,0], [1,1]])\n",
    "t= torch.Tensor([0,1,1,0])\n",
    "\n",
    "net = Network(input_size=2, hidden_size=2, output_size=1)\n",
    "\n",
    "loss_function = nn.BCELoss()\n",
    "\n",
    "optimizer = optim.SGD(params=net.parameters(), lr =0.5)\n",
    "\n",
    "STEP = 10001\n",
    "\n",
    "for step in range(STEP):\n",
    "    optimizer.zero_grad() #경사 초기화\n",
    "    y=net(x)\n",
    "    loss = loss_function(y.squeeze(), t)\n",
    "    loss.backward() #loss에 백워드 함수 호출해서 역전파 시작\n",
    "    optimizer.step()\n",
    "    if step % 1000 ==0:\n",
    "        print(\"{}:\\t {:.4f}\" .format(step, loss.item()))\n",
    "\n",
    "pred = net(x).ge(0.5) #ge는 0.5 넘으면 true, 안넘으면 false로 해줌\n",
    "print(pred.view(-1))"
   ]
  },
  {
   "cell_type": "code",
   "execution_count": 54,
   "id": "3cba7616-aa84-4ac1-8fc9-c4b689049b23",
   "metadata": {},
   "outputs": [
    {
     "name": "stdout",
     "output_type": "stream",
     "text": [
      "/home/yunseo/notebooks\n"
     ]
    }
   ],
   "source": [
    "!pwd"
   ]
  },
  {
   "cell_type": "code",
   "execution_count": 59,
   "id": "aa62c41c-d32d-46b5-a8f1-b78adfa0499f",
   "metadata": {},
   "outputs": [
    {
     "name": "stdout",
     "output_type": "stream",
     "text": [
      "size of mini-batch x: torch.Size([64, 3]), t: torch.Size([64, 3])\n"
     ]
    },
    {
     "name": "stderr",
     "output_type": "stream",
     "text": [
      "/tmp/ipykernel_1012/3562898395.py:24: UserWarning: Creating a tensor from a list of numpy.ndarrays is extremely slow. Please consider converting the list to a single numpy.ndarray with numpy.array() before converting to a tensor. (Triggered internally at /croot/pytorch-select_1730848725855/work/torch/csrc/utils/tensor_new.cpp:274.)\n",
      "  return (torch.FloatTensor(x), torch.LongTensor(t))\n",
      "/tmp/ipykernel_1012/3562898395.py:24: DeprecationWarning: an integer is required (got type numpy.float64).  Implicit conversion to integers using __int__ is deprecated, and may be removed in a future version of Python.\n",
      "  return (torch.FloatTensor(x), torch.LongTensor(t))\n"
     ]
    }
   ],
   "source": [
    "#pytorch dataset, dataloader\n",
    "\n",
    "import torch\n",
    "from torch.utils.data import Dataset, DataLoader\n",
    "import numpy as np\n",
    "\n",
    "class CustomDataset(Dataset):\n",
    "    def __init__(self, data_path):\n",
    "        with open(data_path, \"r\", encoding=\"utf-8\") as file:\n",
    "            data = file.read().splitlines() \n",
    "            data = np.array([line.split(\"\\t\") for line in data], dtype=float)\n",
    "\n",
    "            self.x = data[:, :-1] #데이터는 1000개의 행, 4개의 열을 가지는 2차원 행렬\n",
    "            self.t = data[:, :-1] #마지막 열이 타겟 데이터\n",
    "\n",
    "    def __getitem__(self, index):\n",
    "        return (self.x[index], self.t[index]) #인덱스에 해당하는 데이터를 가져옴\n",
    "\n",
    "    def __len__(self):\n",
    "        return len(self.x)\n",
    "\n",
    "    def custom_collate_fn(self, data):\n",
    "        x, t = list(zip(*data))\n",
    "        return (torch.FloatTensor(x), torch.LongTensor(t))\n",
    "\n",
    "example_dataset_path = \"./example_dataset.tsv\"\n",
    "custom_dataset = CustomDataset(data_path=example_dataset_path)\n",
    "\n",
    "train_loader = DataLoader(dataset=custom_dataset,\n",
    "                          batch_size = 64,\n",
    "                          collate_fn = custom_dataset.custom_collate_fn,\n",
    "                          shuffle = True)\n",
    "\n",
    "for x, y in train_loader:\n",
    "    print(\"size of mini-batch x: {}, t: {}\".format(x.size(), y.size()))\n",
    "    break\n",
    "\n",
    "        "
   ]
  },
  {
   "cell_type": "code",
   "execution_count": null,
   "id": "cb756f10-b1c3-4acd-b5a5-4f43764e9803",
   "metadata": {},
   "outputs": [],
   "source": []
  }
 ],
 "metadata": {
  "kernelspec": {
   "display_name": "Python(torchenv)",
   "language": "python",
   "name": "torchenv"
  },
  "language_info": {
   "codemirror_mode": {
    "name": "ipython",
    "version": 3
   },
   "file_extension": ".py",
   "mimetype": "text/x-python",
   "name": "python",
   "nbconvert_exporter": "python",
   "pygments_lexer": "ipython3",
   "version": "3.9.21"
  }
 },
 "nbformat": 4,
 "nbformat_minor": 5
}
